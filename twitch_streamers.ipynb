{
 "cells": [
  {
   "attachments": {},
   "cell_type": "markdown",
   "metadata": {},
   "source": [
    "Twitch.tv is the premier website for game streaming and gaming-related entertainment, having thousands of active streamers and millions of active viewers. The dataset used in this notebook was obtained from Kaggle, at https://www.kaggle.com/datasets/aayushmishra1512/twitchdata.  Within the top 1000 streamers on twitch, compiled in this dataset, I would like to see the differences in their streaming numbers, as well as the differences between different categories of streamers, and how that may affect their viewing numbers.\n",
    "\n",
    "We'll start by importing the dataset so that we can view the data inside of it."
   ]
  },
  {
   "cell_type": "code",
   "execution_count": 4,
   "metadata": {},
   "outputs": [
    {
     "name": "stdout",
     "output_type": "stream",
     "text": [
      "    Channel  Watch time(Minutes)  Stream time(minutes)  Peak viewers  \\\n",
      "0     xQcOW           6196161750                215250        222720   \n",
      "1  summit1g           6091677300                211845        310998   \n",
      "2    Gaules           5644590915                515280        387315   \n",
      "3  ESL_CSGO           3970318140                517740        300575   \n",
      "4      Tfue           3671000070                123660        285644   \n",
      "\n",
      "   Average viewers  Followers  Followers gained  Views gained  Partnered  \\\n",
      "0            27716    3246298           1734810      93036735       True   \n",
      "1            25610    5310163           1370184      89705964       True   \n",
      "2            10976    1767635           1023779     102611607       True   \n",
      "3             7714    3944850            703986     106546942       True   \n",
      "4            29602    8938903           2068424      78998587       True   \n",
      "\n",
      "   Mature    Language  \n",
      "0   False     English  \n",
      "1   False     English  \n",
      "2    True  Portuguese  \n",
      "3   False     English  \n",
      "4   False     English  \n"
     ]
    }
   ],
   "source": [
    "import pandas as pd\n",
    "import matplotlib.pyplot as plt\n",
    "\n",
    "streamers = pd.read_csv(\"twitchdata-update.csv\")\n",
    "print(streamers.head())"
   ]
  },
  {
   "attachments": {},
   "cell_type": "markdown",
   "metadata": {},
   "source": [
    "With the data now in our program, we are able to search and see different statistics. For example, we can see how many of these top 1000 streamers are listed as Mature (rated 18+ on the site)."
   ]
  },
  {
   "cell_type": "code",
   "execution_count": 12,
   "metadata": {},
   "outputs": [
    {
     "name": "stdout",
     "output_type": "stream",
     "text": [
      "230\n",
      "23.0\n"
     ]
    }
   ],
   "source": [
    "#Creating a list of mature streamers\n",
    "mature = []\n",
    "non_mature = []\n",
    "#Creating a loop to see which streamers are listed as mature\n",
    "for streamer in streamers.Mature:\n",
    "    if streamer == True:\n",
    "        mature.append(streamer)\n",
    "    else:\n",
    "        non_mature.append(streamer)\n",
    "\n",
    "print(len(mature))\n",
    "percent_mature = (len(mature)/1000) * 100\n",
    "print(percent_mature)"
   ]
  },
  {
   "attachments": {},
   "cell_type": "markdown",
   "metadata": {},
   "source": [
    "With this, we can see that 23% of the streamers on the top 1000 list are rated Mature. Let's see if we can put this into a visualization and show if this is correct."
   ]
  },
  {
   "cell_type": "code",
   "execution_count": 15,
   "metadata": {},
   "outputs": [
    {
     "data": {
      "image/png": "[encoded data removed]",
      "text/plain": [
       "<Figure size 640x480 with 1 Axes>"
      ]
     },
     "metadata": {},
     "output_type": "display_data"
    }
   ],
   "source": [
    "#Creating a pie chart to show distribution of mature streamers vs non-mature streamers\n",
    "plt.pie([len(non_mature), len(mature)], labels=[\"Non-Mature\", \"Mature\"], autopct='%0.2f')\n",
    "plt.show()"
   ]
  },
  {
   "attachments": {},
   "cell_type": "markdown",
   "metadata": {},
   "source": [
    "With the data, as well as the visualization, we can pretty definitively say that 23% of the top 1000 streamers are rated as Mature. What other comparisons could we make with this dataset? We could see how the differences fare in viewerships between Mature and Non-Mature rated streaming channels."
   ]
  }
 ],
 "metadata": {
  "kernelspec": {
   "display_name": "Python 3",
   "language": "python",
   "name": "python3"
  },
  "language_info": {
   "codemirror_mode": {
    "name": "ipython",
    "version": 3
   },
   "file_extension": ".py",
   "mimetype": "text/x-python",
   "name": "python",
   "nbconvert_exporter": "python",
   "pygments_lexer": "ipython3",
   "version": "3.11.1"
  },
  "orig_nbformat": 4,
  "vscode": {
   "interpreter": {
    "hash": "841b185554555ca1ca178be24c38857c2b72fe74f8a7d4209f77b3f65f0ea57b"
   }
  }
 },
 "nbformat": 4,
 "nbformat_minor": 2
}
